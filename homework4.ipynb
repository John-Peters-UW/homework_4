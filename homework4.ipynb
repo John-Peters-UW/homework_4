{
 "cells": [
  {
   "cell_type": "code",
   "execution_count": 734,
   "metadata": {},
   "outputs": [],
   "source": [
    "import os\n",
    "from sklearn.feature_extraction.text import CountVectorizer\n",
    "import numpy as np\n",
    "import math\n",
    "\n",
    "class NBClassifier:\n",
    "    def __init__(self) -> None:\n",
    "        self.vocab = ['a', 'b', 'c', 'd', 'e', 'f', 'g', 'h', 'i', 'j', 'k', 'l', 'm',\n",
    "                'n', 'o', 'p', 'q', 'r', 's', 't', 'u', 'v', 'w', 'x', 'y', 'z', ' ']\n",
    "\n",
    "        self.vectorizer = CountVectorizer(analyzer='char', vocabulary=self.vocab)\n",
    "        \n",
    "        self.training_data = None\n",
    "        self.priors = {}\n",
    "        self.model = self.get_training_data()\n",
    "        self.summerize_cols()\n",
    "        self.calculate_priors()\n",
    "\n",
    "    def calculate_priors(self):\n",
    "        predictions = []\n",
    "        num_training_samples = 0\n",
    "        for key, value in self.training_data.items():\n",
    "            num_training_samples += len(value)\n",
    "\n",
    "        for key, value in self.training_data.items():\n",
    "            self.priors[key] = (len(value) * 1.0)/num_training_samples\n",
    "\n",
    "    def get_training_data(self):\n",
    "        training_data = {}\n",
    "\n",
    "        files = os.listdir('./languageID')\n",
    "        for file in files:\n",
    "            file_name = file.split('.')[0]\n",
    "            number = int(file_name[1:])\n",
    "\n",
    "            if number >= 10:\n",
    "                continue\n",
    "\n",
    "            f = open(f\"./languageID/{file}\", 'r')\n",
    "            if file[0] in training_data:\n",
    "                training_data[file[0]].append(f.read())\n",
    "            else:\n",
    "                training_data[file[0]] = [f.read()]\n",
    "            f.close()\n",
    "\n",
    "        self.training_data = training_data\n",
    "\n",
    "        training_vectorized = {}\n",
    "        for key, value in training_data.items():\n",
    "            X = self.vectorizer.fit_transform(value)\n",
    "            training_vectorized[key] = {\n",
    "                'data': X.A\n",
    "            }\n",
    "\n",
    "        return training_vectorized\n",
    "\n",
    "    def summerize_cols(self):\n",
    "            for key, value in self.model.items():\n",
    "                stats = [] \n",
    "                data = value['data']\n",
    "                for col_idx in range(data.shape[1]):\n",
    "                    col = data[:, col_idx]\n",
    "                    stats.append((col.mean(), col.std(), np.sum(col > 0)))\n",
    "\n",
    "                self.model[key]['stats'] = stats\n",
    "\n",
    "    def gaus_pdf(self, val, mean, stdev, count):\n",
    "        # https://en.wikipedia.org/wiki/Gaussian_function\n",
    "        if stdev > 0:\n",
    "            return 1 / (math.sqrt(2 * np.pi) * stdev) * math.exp(-((val-mean)**2 / (2 * stdev**2 )))\n",
    "        else:\n",
    "            alpha = 1/2\n",
    "            return (count + alpha)/(10 + (27 * alpha))\n",
    "        \n",
    "    def predict(self, query):\n",
    "        likelihoods = []\n",
    "        query_vector = self.vectorizer.fit_transform([query]).A.tolist()[0]\n",
    "        class_probs = []\n",
    "        for key, pred_class in self.model.items():\n",
    "            class_prob = self.priors[key] \n",
    "            stats = pred_class['stats']\n",
    "            for index, (mean, stdv, size) in enumerate(stats):\n",
    "                gaus_pdf = self.gaus_pdf(query_vector[index], mean, stdv, size)\n",
    "                class_prob *= gaus_pdf\n",
    "            class_probs.append(class_prob)\n",
    "            likelihoods.append((key, class_prob))\n",
    "\n",
    "        sum_class_probs = sum(class_probs)\n",
    "        for index, (key, prob) in enumerate(likelihoods):\n",
    "            likelihoods[index] = (key, prob/sum_class_probs)\n",
    "            \n",
    "        return sorted(likelihoods, key=lambda x: x[1], reverse=True)"
   ]
  },
  {
   "cell_type": "code",
   "execution_count": 735,
   "metadata": {},
   "outputs": [],
   "source": [
    "nb = NBClassifier()"
   ]
  },
  {
   "cell_type": "code",
   "execution_count": 736,
   "metadata": {},
   "outputs": [
    {
     "data": {
      "text/plain": [
       "[('e', 1.0), ('j', 0.0), ('s', 0.0)]"
      ]
     },
     "execution_count": 736,
     "metadata": {},
     "output_type": "execute_result"
    }
   ],
   "source": [
    "nb.predict(open('./languageID/e10.txt').read())"
   ]
  },
  {
   "cell_type": "code",
   "execution_count": 737,
   "metadata": {},
   "outputs": [
    {
     "data": {
      "text/plain": [
       "('s', 1.0)"
      ]
     },
     "execution_count": 737,
     "metadata": {},
     "output_type": "execute_result"
    }
   ],
   "source": [
    "max(nb.predict(open('./languageID/s12.txt').read()), key=lambda x: x[1])"
   ]
  },
  {
   "cell_type": "code",
   "execution_count": 738,
   "metadata": {},
   "outputs": [
    {
     "name": "stdout",
     "output_type": "stream",
     "text": [
      "s11\n"
     ]
    }
   ],
   "source": [
    "preds = []\n",
    "files = os.listdir('./languageID')\n",
    "for file in files:\n",
    "    file_name = file.split('.')[0]\n",
    "    number = int(file_name[1:])\n",
    "\n",
    "    if number < 10:\n",
    "        continue\n",
    "\n",
    "    f = open(f\"./languageID/{file}\", 'r')\n",
    "    pred = nb.predict(f.read())[0][0]\n",
    "    if pred == file_name[0]:\n",
    "        preds.append(1)\n",
    "    else:\n",
    "        print(file_name)\n",
    "        preds.append(0)"
   ]
  },
  {
   "cell_type": "code",
   "execution_count": 739,
   "metadata": {},
   "outputs": [],
   "source": [
    "accuracy = sum(preds)/len(preds)"
   ]
  },
  {
   "cell_type": "code",
   "execution_count": 740,
   "metadata": {},
   "outputs": [
    {
     "name": "stdout",
     "output_type": "stream",
     "text": [
      "29 30\n"
     ]
    }
   ],
   "source": [
    "print(sum(preds), len(preds))"
   ]
  },
  {
   "cell_type": "code",
   "execution_count": 741,
   "metadata": {},
   "outputs": [
    {
     "data": {
      "text/plain": [
       "0.9666666666666667"
      ]
     },
     "execution_count": 741,
     "metadata": {},
     "output_type": "execute_result"
    }
   ],
   "source": [
    "accuracy"
   ]
  },
  {
   "cell_type": "code",
   "execution_count": 742,
   "metadata": {},
   "outputs": [],
   "source": [
    "import torch\n",
    "from numpy import newaxis as np_newaxis\n",
    "torch.set_default_dtype(torch.float32)\n",
    "\n",
    "class Layer:\n",
    "    def __init__(self, output_shape, forward_needs_truth = False):\n",
    "        self.output_shape = output_shape\n",
    "        self.output = None\n",
    "        self.grad = torch.zeros(tuple(output_shape))\n",
    "        self.forward_needs_truth = forward_needs_truth\n",
    "        \n",
    "    def accumulate_grad(self, grad):\n",
    "        if isinstance(grad, int):\n",
    "            new_grad = grad + self.grad\n",
    "            self.grad = new_grad\n",
    "        elif grad.shape != self.grad.shape:\n",
    "            new_grad = grad.mean() + self.grad\n",
    "            self.grad = new_grad\n",
    "        else:\n",
    "            new_grad = grad + self.grad\n",
    "            self.grad = new_grad\n",
    "\n",
    "    def clear_grad(self):\n",
    "        self.grad = torch.zeros(tuple(self.output_shape))\n",
    "\n",
    "    def step(self, alpha):\n",
    "        pass\n",
    "\n",
    "    def get_params(self):\n",
    "        pass\n",
    "\n",
    "    def getShape(self):\n",
    "        return self.output_shape\n",
    "    \n",
    "    def setShape(self, new_shape):\n",
    "        self.output_shape = new_shape\n",
    "\n",
    "    def getOutput(self):\n",
    "        if self.output is None:\n",
    "            Exception(\"Output layer was not defined\")\n",
    "        else:\n",
    "            return self.output\n",
    "\n",
    "    def setOutput(self, output):\n",
    "        self.output = output\n",
    "\n",
    "class Input(Layer):\n",
    "    def __init__(self, output_shape):\n",
    "        Layer.__init__(self, output_shape=output_shape) \n",
    "\n",
    "    def set(self,output):\n",
    "        val_tuple = tuple(output.shape) \n",
    "        assert val_tuple == self.getShape()\n",
    "        self.setOutput(output)\n",
    "\n",
    "    def randomize(self):\n",
    "        random_weights = torch.normal(0,0.01, size=tuple(self.getShape())) * 0.01\n",
    "        self.setOutput(random_weights) \n",
    "\n",
    "    def zero(self):\n",
    "        self.setOutput(torch.zeros(tuple(self.getShape())))\n",
    "\n",
    "    def forward(self):\n",
    "        pass\n",
    "\n",
    "    def backward(self):\n",
    "        pass\n",
    "\n",
    "    def step(self, alpha):\n",
    "        self.setOutput(self.getOutput() - (alpha * self.grad))\n",
    "\n",
    "class Linear(Layer):\n",
    "    def __init__(self, weights, input_shape):\n",
    "        shape = (weights.getShape()[0], input_shape[1])\n",
    "        Layer.__init__(self, shape) \n",
    "        self.input_shape = input_shape\n",
    "        self.inputs = None \n",
    "        self.weights = weights\n",
    "\n",
    "    def update_input(self, new_input):\n",
    "        assert new_input.getShape() == self.input_shape\n",
    "        self.inputs = new_input\n",
    "\n",
    "    def forward(self):\n",
    "        layer_res = self.weights.getOutput() @ self.inputs.getOutput()\n",
    "        self.setOutput(layer_res)\n",
    "\n",
    "    def backward(self):\n",
    "        self.weights.accumulate_grad(self.grad @ self.inputs.getOutput().T)\n",
    "        self.inputs.accumulate_grad(self.weights.getOutput().T @ self.grad)\n",
    "\n",
    "    def get_params(self):\n",
    "        return [self.weights, self]\n",
    "\n",
    "    def get_back_layers(self):\n",
    "        return [self.weights, self.inputs, self]\n",
    "\n",
    "class Softmax(Layer):\n",
    "    def __init__(self, input):\n",
    "        Layer.__init__(self, (1,1), forward_needs_truth = True) \n",
    "        self.true_values = None\n",
    "        self.input = input\n",
    "        self.pred = None\n",
    "\n",
    "    def forward(self, true_values):\n",
    "        true_pd = torch.reshape(torch.zeros(10), shape=(-1,1))\n",
    "        true_pd[true_values] = 1\n",
    "\n",
    "        self.true_values = true_pd\n",
    "\n",
    "        m = torch.max(self.input.getOutput(), axis=0).values\n",
    "        C = self.input.getOutput() - m\n",
    "        t = torch.exp(C) + 1e-7\n",
    "        softmax_pred = (t / torch.sum(t, axis=0))\n",
    "        self.pred = softmax_pred\n",
    "        \n",
    "        log_softmax_predicted = torch.log(softmax_pred)\n",
    "        cross_entropy_loss = torch.sum(-1 * true_pd * log_softmax_predicted).mean()\n",
    "        \n",
    "        self.setOutput(cross_entropy_loss)    \n",
    "\n",
    "    def predict(self):\n",
    "        m = torch.max(self.input.getOutput(), axis=0).values\n",
    "        C = self.input.getOutput() - m\n",
    "        t = torch.exp(C) + 1e-7\n",
    "        softmax_pred = (t / torch.sum(t, axis=0))\n",
    "        return int(torch.argmax(softmax_pred))\n",
    "\n",
    "    def getOutput(self):\n",
    "        return self.output\n",
    "\n",
    "    def backward(self):\n",
    "        self.input.accumulate_grad(self.grad * (self.pred - self.true_values))\n",
    "    \n",
    "    def get_back_layers(self):\n",
    "        return [self.input, self]\n",
    "    \n",
    "class ReLU(Layer):\n",
    "    def __init__(self, input_layer):\n",
    "        Layer.__init__(self, input_layer.getShape()) \n",
    "        self.input = input_layer\n",
    "\n",
    "    def forward(self):\n",
    "        # assert self.input.getOutput().shape == self.getShape()\n",
    "        self.setOutput(torch.where(self.input.getOutput() >= 0, self.input.getOutput(), 0))\n",
    "\n",
    "    def heavy_side(self, input):\n",
    "        return torch.where(self.input.getOutput() >= 0, 1, 0)\n",
    "\n",
    "    def backward(self):\n",
    "        self.input.accumulate_grad(self.grad * self.heavy_side(self.input))\n",
    "\n",
    "    def get_back_layers(self):\n",
    "        return [self.input, self]\n",
    "    \n",
    "class Sigmoid(Layer):\n",
    "    def __init__(self, input_layer):\n",
    "        Layer.__init__(self, input_layer.getShape()) \n",
    "        self.input = input_layer\n",
    "\n",
    "    def forward(self):\n",
    "        self.setOutput(self.sigmoid(self.input.getOutput()))\n",
    "        # print(self.getOutput())\n",
    "\n",
    "    def sigmoid(self, x):\n",
    "        return 1/(1 + torch.exp(-1*x))\n",
    "\n",
    "    def sigmoid_deriv(self):\n",
    "        return self.sigmoid(self.input.getOutput()) * (1 - self.sigmoid(self.input.getOutput()))\n",
    "\n",
    "    def backward(self):\n",
    "        self.input.accumulate_grad(self.grad * self.sigmoid_deriv())\n",
    "\n",
    "    def get_back_layers(self):\n",
    "        return [self.input, self]"
   ]
  },
  {
   "cell_type": "code",
   "execution_count": 743,
   "metadata": {},
   "outputs": [],
   "source": [
    "import torch\n",
    "torch.set_default_dtype(torch.float32)\n",
    "\n",
    "class Network:\n",
    "    def __init__(self, learning_rate=0.1):\n",
    "        self.layers = []\n",
    "        self.back_layers = set()\n",
    "        self.learning_rate = learning_rate\n",
    "\n",
    "    def add(self, layer):\n",
    "        self.layers.append(layer)\n",
    "        for back_layer in layer.get_back_layers():\n",
    "            self.back_layers.add(back_layer)\n",
    "\n",
    "    def forward(self,input, truth):\n",
    "        self.layers[0].inputs.setOutput(input)\n",
    "        self.layers[0].inputs.setShape(input.shape)\n",
    "        for layer in self.layers:\n",
    "            if layer.forward_needs_truth:\n",
    "                layer.forward(truth)\n",
    "            else:\n",
    "                layer.forward()\n",
    "        \n",
    "        return self.layers[-2].getOutput(), self.layers[-1].getOutput()\n",
    "    \n",
    "    def predict(self, input):\n",
    "        self.layers[0].inputs.setOutput(input)\n",
    "        self.layers[0].inputs.setShape(input.shape)\n",
    "        for layer in self.layers:\n",
    "            if layer.forward_needs_truth:\n",
    "                pred = layer.predict()\n",
    "            else:\n",
    "                layer.forward()\n",
    "        \n",
    "        return pred\n",
    "\n",
    "    def backward(self):\n",
    "        self.layers[-1].accumulate_grad(1)\n",
    "        for layer in reversed(self.layers):\n",
    "            layer.backward()\n",
    "\n",
    "    def step(self):\n",
    "        for layer in self.back_layers:\n",
    "            layer.step(self.learning_rate)\n",
    "            layer.clear_grad()\n",
    "\n",
    "    def calc_test_acc(self, x_train, y_train):\n",
    "        preds = []\n",
    "        for sample in x_train:\n",
    "            preds.append(self.predict(sample))\n",
    "        \n",
    "        correct = 0\n",
    "        for index, pred in enumerate(preds):\n",
    "            if int(y_train[index]) == pred:\n",
    "                correct += 1\n",
    "\n",
    "        return correct/len(preds)\n",
    "\n",
    "    def train(self, x_train, y_train, NUM_EPOCHS, BATCH_SIZE):\n",
    "        NUM_BATCHES =  x_train.shape[1] / BATCH_SIZE \n",
    "\n",
    "        mses = []\n",
    "        accuracies = []\n",
    "\n",
    "        for epoch in range(NUM_EPOCHS):\n",
    "            epoch_mse = []\n",
    "            for batch in range(int(NUM_BATCHES)):\n",
    "                batch_start = batch * BATCH_SIZE\n",
    "                batch_end = (batch+1) * BATCH_SIZE\n",
    "                batch = x_train.T[:, batch_start: batch_end]\n",
    "                batch_true = y_train[batch_start: batch_end]\n",
    "\n",
    "                predictions, mse = self.forward(batch, batch_true)\n",
    "\n",
    "                epoch_mse.append(float(mse))\n",
    "                self.backward()\n",
    "                self.step()\n",
    "            \n",
    "            accuracies.append(self.calc_test_acc(x_train, y_train))\n",
    "\n",
    "            mses.append(sum(epoch_mse)/len(epoch_mse))\n",
    "                \n",
    "        return mses, accuracies"
   ]
  },
  {
   "cell_type": "code",
   "execution_count": 744,
   "metadata": {},
   "outputs": [],
   "source": [
    "\n",
    "# Input Layer\n",
    "input_layer = Input((784,1))\n",
    "\n",
    "# Layer 1\n",
    "W_layer = Input((300,784))\n",
    "W_layer.randomize()\n",
    "\n",
    "linear_layer = Linear(W_layer, input_layer.getShape())\n",
    "linear_layer.update_input(input_layer)\n",
    "\n",
    "# Relu layer\n",
    "relu_layer = Sigmoid(linear_layer)\n",
    "\n",
    "# Output layer\n",
    "M_layer = Input((10,300))\n",
    "M_layer.randomize()\n",
    "\n",
    "output_layer = Linear(M_layer, relu_layer.getShape())\n",
    "output_layer.update_input(relu_layer)\n",
    "\n",
    "softmax = Softmax(output_layer)\n",
    "\n",
    "network = Network(0.001)\n",
    "network.add(linear_layer)\n",
    "network.add(relu_layer)\n",
    "network.add(output_layer)\n",
    "network.add(softmax)"
   ]
  },
  {
   "cell_type": "code",
   "execution_count": 745,
   "metadata": {},
   "outputs": [],
   "source": [
    "import torchvision\n",
    "mnist = torchvision.datasets.MNIST(download=True, root='./datasets/', train=True)\n",
    "mnist_flat = mnist.data.view(60000, -1).to(torch.float32)"
   ]
  },
  {
   "cell_type": "code",
   "execution_count": 746,
   "metadata": {},
   "outputs": [
    {
     "data": {
      "text/plain": [
       "torch.Size([60000, 784])"
      ]
     },
     "execution_count": 746,
     "metadata": {},
     "output_type": "execute_result"
    }
   ],
   "source": [
    "mnist_flat.shape"
   ]
  },
  {
   "cell_type": "code",
   "execution_count": 747,
   "metadata": {},
   "outputs": [
    {
     "data": {
      "text/plain": [
       "torch.Size([60000])"
      ]
     },
     "execution_count": 747,
     "metadata": {},
     "output_type": "execute_result"
    }
   ],
   "source": [
    "mnist.targets.shape"
   ]
  },
  {
   "cell_type": "code",
   "execution_count": 748,
   "metadata": {},
   "outputs": [
    {
     "ename": "KeyboardInterrupt",
     "evalue": "",
     "output_type": "error",
     "traceback": [
      "\u001b[1;31m---------------------------------------------------------------------------\u001b[0m",
      "\u001b[1;31mKeyboardInterrupt\u001b[0m                         Traceback (most recent call last)",
      "\u001b[1;32mc:\\Users\\johng\\Workspaces\\Madison2023\\CS760\\4_homework\\homework4.ipynb Cell 15\u001b[0m line \u001b[0;36m1\n\u001b[1;32m----> <a href='vscode-notebook-cell:/c%3A/Users/johng/Workspaces/Madison2023/CS760/4_homework/homework4.ipynb#X20sZmlsZQ%3D%3D?line=0'>1</a>\u001b[0m mses, accuracies \u001b[39m=\u001b[39m network\u001b[39m.\u001b[39;49mtrain(mnist_flat, mnist\u001b[39m.\u001b[39;49mtargets, \u001b[39m30\u001b[39;49m, \u001b[39m1\u001b[39;49m)\n",
      "\u001b[1;32mc:\\Users\\johng\\Workspaces\\Madison2023\\CS760\\4_homework\\homework4.ipynb Cell 15\u001b[0m line \u001b[0;36m7\n\u001b[0;32m     <a href='vscode-notebook-cell:/c%3A/Users/johng/Workspaces/Madison2023/CS760/4_homework/homework4.ipynb#X20sZmlsZQ%3D%3D?line=75'>76</a>\u001b[0m         \u001b[39mself\u001b[39m\u001b[39m.\u001b[39mbackward()\n\u001b[0;32m     <a href='vscode-notebook-cell:/c%3A/Users/johng/Workspaces/Madison2023/CS760/4_homework/homework4.ipynb#X20sZmlsZQ%3D%3D?line=76'>77</a>\u001b[0m         \u001b[39mself\u001b[39m\u001b[39m.\u001b[39mstep()\n\u001b[1;32m---> <a href='vscode-notebook-cell:/c%3A/Users/johng/Workspaces/Madison2023/CS760/4_homework/homework4.ipynb#X20sZmlsZQ%3D%3D?line=78'>79</a>\u001b[0m     accuracies\u001b[39m.\u001b[39mappend(\u001b[39mself\u001b[39;49m\u001b[39m.\u001b[39;49mcalc_test_acc(x_train, y_train))\n\u001b[0;32m     <a href='vscode-notebook-cell:/c%3A/Users/johng/Workspaces/Madison2023/CS760/4_homework/homework4.ipynb#X20sZmlsZQ%3D%3D?line=80'>81</a>\u001b[0m     mses\u001b[39m.\u001b[39mappend(\u001b[39msum\u001b[39m(epoch_mse)\u001b[39m/\u001b[39m\u001b[39mlen\u001b[39m(epoch_mse))\n\u001b[0;32m     <a href='vscode-notebook-cell:/c%3A/Users/johng/Workspaces/Madison2023/CS760/4_homework/homework4.ipynb#X20sZmlsZQ%3D%3D?line=82'>83</a>\u001b[0m \u001b[39mreturn\u001b[39;00m mses, accuracies\n",
      "\u001b[1;32mc:\\Users\\johng\\Workspaces\\Madison2023\\CS760\\4_homework\\homework4.ipynb Cell 15\u001b[0m line \u001b[0;36m5\n\u001b[0;32m     <a href='vscode-notebook-cell:/c%3A/Users/johng/Workspaces/Madison2023/CS760/4_homework/homework4.ipynb#X20sZmlsZQ%3D%3D?line=47'>48</a>\u001b[0m preds \u001b[39m=\u001b[39m []\n\u001b[0;32m     <a href='vscode-notebook-cell:/c%3A/Users/johng/Workspaces/Madison2023/CS760/4_homework/homework4.ipynb#X20sZmlsZQ%3D%3D?line=48'>49</a>\u001b[0m \u001b[39mfor\u001b[39;00m sample \u001b[39min\u001b[39;00m x_train:\n\u001b[1;32m---> <a href='vscode-notebook-cell:/c%3A/Users/johng/Workspaces/Madison2023/CS760/4_homework/homework4.ipynb#X20sZmlsZQ%3D%3D?line=49'>50</a>\u001b[0m     preds\u001b[39m.\u001b[39mappend(\u001b[39mself\u001b[39;49m\u001b[39m.\u001b[39;49mpredict(sample))\n\u001b[0;32m     <a href='vscode-notebook-cell:/c%3A/Users/johng/Workspaces/Madison2023/CS760/4_homework/homework4.ipynb#X20sZmlsZQ%3D%3D?line=51'>52</a>\u001b[0m correct \u001b[39m=\u001b[39m \u001b[39m0\u001b[39m\n\u001b[0;32m     <a href='vscode-notebook-cell:/c%3A/Users/johng/Workspaces/Madison2023/CS760/4_homework/homework4.ipynb#X20sZmlsZQ%3D%3D?line=52'>53</a>\u001b[0m \u001b[39mfor\u001b[39;00m index, pred \u001b[39min\u001b[39;00m \u001b[39menumerate\u001b[39m(preds):\n",
      "\u001b[1;32mc:\\Users\\johng\\Workspaces\\Madison2023\\CS760\\4_homework\\homework4.ipynb Cell 15\u001b[0m line \u001b[0;36m3\n\u001b[0;32m     <a href='vscode-notebook-cell:/c%3A/Users/johng/Workspaces/Madison2023/CS760/4_homework/homework4.ipynb#X20sZmlsZQ%3D%3D?line=30'>31</a>\u001b[0m         pred \u001b[39m=\u001b[39m layer\u001b[39m.\u001b[39mpredict()\n\u001b[0;32m     <a href='vscode-notebook-cell:/c%3A/Users/johng/Workspaces/Madison2023/CS760/4_homework/homework4.ipynb#X20sZmlsZQ%3D%3D?line=31'>32</a>\u001b[0m     \u001b[39melse\u001b[39;00m:\n\u001b[1;32m---> <a href='vscode-notebook-cell:/c%3A/Users/johng/Workspaces/Madison2023/CS760/4_homework/homework4.ipynb#X20sZmlsZQ%3D%3D?line=32'>33</a>\u001b[0m         layer\u001b[39m.\u001b[39;49mforward()\n\u001b[0;32m     <a href='vscode-notebook-cell:/c%3A/Users/johng/Workspaces/Madison2023/CS760/4_homework/homework4.ipynb#X20sZmlsZQ%3D%3D?line=34'>35</a>\u001b[0m \u001b[39mreturn\u001b[39;00m pred\n",
      "\u001b[1;32mc:\\Users\\johng\\Workspaces\\Madison2023\\CS760\\4_homework\\homework4.ipynb Cell 15\u001b[0m line \u001b[0;36m1\n\u001b[0;32m    <a href='vscode-notebook-cell:/c%3A/Users/johng/Workspaces/Madison2023/CS760/4_homework/homework4.ipynb#X20sZmlsZQ%3D%3D?line=160'>161</a>\u001b[0m \u001b[39mdef\u001b[39;00m \u001b[39mforward\u001b[39m(\u001b[39mself\u001b[39m):\n\u001b[1;32m--> <a href='vscode-notebook-cell:/c%3A/Users/johng/Workspaces/Madison2023/CS760/4_homework/homework4.ipynb#X20sZmlsZQ%3D%3D?line=161'>162</a>\u001b[0m     \u001b[39mself\u001b[39m\u001b[39m.\u001b[39msetOutput(\u001b[39mself\u001b[39;49m\u001b[39m.\u001b[39;49msigmoid(\u001b[39mself\u001b[39;49m\u001b[39m.\u001b[39;49minput\u001b[39m.\u001b[39;49mgetOutput()))\n",
      "\u001b[1;32mc:\\Users\\johng\\Workspaces\\Madison2023\\CS760\\4_homework\\homework4.ipynb Cell 15\u001b[0m line \u001b[0;36m1\n\u001b[0;32m    <a href='vscode-notebook-cell:/c%3A/Users/johng/Workspaces/Madison2023/CS760/4_homework/homework4.ipynb#X20sZmlsZQ%3D%3D?line=164'>165</a>\u001b[0m \u001b[39mdef\u001b[39;00m \u001b[39msigmoid\u001b[39m(\u001b[39mself\u001b[39m, x):\n\u001b[1;32m--> <a href='vscode-notebook-cell:/c%3A/Users/johng/Workspaces/Madison2023/CS760/4_homework/homework4.ipynb#X20sZmlsZQ%3D%3D?line=165'>166</a>\u001b[0m     \u001b[39mreturn\u001b[39;00m \u001b[39m1\u001b[39m\u001b[39m/\u001b[39m(\u001b[39m1\u001b[39m \u001b[39m+\u001b[39m torch\u001b[39m.\u001b[39;49mexp(\u001b[39m-\u001b[39;49m\u001b[39m1\u001b[39;49m\u001b[39m*\u001b[39;49mx))\n",
      "\u001b[1;31mKeyboardInterrupt\u001b[0m: "
     ]
    }
   ],
   "source": [
    "mses, accuracies = network.train(mnist_flat, mnist.targets, 30, 1)"
   ]
  },
  {
   "cell_type": "code",
   "execution_count": null,
   "metadata": {},
   "outputs": [
    {
     "name": "stderr",
     "output_type": "stream",
     "text": [
      "c:\\Python311\\Lib\\site-packages\\seaborn\\_oldcore.py:1498: FutureWarning: is_categorical_dtype is deprecated and will be removed in a future version. Use isinstance(dtype, CategoricalDtype) instead\n",
      "  if pd.api.types.is_categorical_dtype(vector):\n",
      "c:\\Python311\\Lib\\site-packages\\seaborn\\_oldcore.py:1498: FutureWarning: is_categorical_dtype is deprecated and will be removed in a future version. Use isinstance(dtype, CategoricalDtype) instead\n",
      "  if pd.api.types.is_categorical_dtype(vector):\n"
     ]
    },
    {
     "data": {
      "text/plain": [
       "Text(0, 0.5, 'Average MSE')"
      ]
     },
     "execution_count": 694,
     "metadata": {},
     "output_type": "execute_result"
    },
    {
     "data": {
      "image/png": "[encoded data removed]",
      "text/plain": [
       "<Figure size 640x480 with 1 Axes>"
      ]
     },
     "metadata": {},
     "output_type": "display_data"
    }
   ],
   "source": [
    "import seaborn as sns\n",
    "import matplotlib.pyplot as plt \n",
    "sns.scatterplot(x=range(len(mses)), y=mses)\n",
    "plt.title(\"Average MSE per epoch\")\n",
    "plt.xlabel(\"Epoch\")\n",
    "plt.ylabel(\"Average MSE\")"
   ]
  },
  {
   "cell_type": "code",
   "execution_count": null,
   "metadata": {},
   "outputs": [
    {
     "name": "stderr",
     "output_type": "stream",
     "text": [
      "c:\\Python311\\Lib\\site-packages\\seaborn\\_oldcore.py:1498: FutureWarning: is_categorical_dtype is deprecated and will be removed in a future version. Use isinstance(dtype, CategoricalDtype) instead\n",
      "  if pd.api.types.is_categorical_dtype(vector):\n",
      "c:\\Python311\\Lib\\site-packages\\seaborn\\_oldcore.py:1498: FutureWarning: is_categorical_dtype is deprecated and will be removed in a future version. Use isinstance(dtype, CategoricalDtype) instead\n",
      "  if pd.api.types.is_categorical_dtype(vector):\n",
      "c:\\Python311\\Lib\\site-packages\\seaborn\\_oldcore.py:1119: FutureWarning: use_inf_as_na option is deprecated and will be removed in a future version. Convert inf values to NaN before operating instead.\n",
      "  with pd.option_context('mode.use_inf_as_na', True):\n",
      "c:\\Python311\\Lib\\site-packages\\seaborn\\_oldcore.py:1119: FutureWarning: use_inf_as_na option is deprecated and will be removed in a future version. Convert inf values to NaN before operating instead.\n",
      "  with pd.option_context('mode.use_inf_as_na', True):\n"
     ]
    },
    {
     "data": {
      "text/plain": [
       "Text(0, 0.5, 'Accuracy')"
      ]
     },
     "execution_count": 709,
     "metadata": {},
     "output_type": "execute_result"
    },
    {
     "data": {
      "image/png": "[encoded data removed]",
      "text/plain": [
       "<Figure size 640x480 with 1 Axes>"
      ]
     },
     "metadata": {},
     "output_type": "display_data"
    }
   ],
   "source": [
    "import seaborn as sns\n",
    "import matplotlib.pyplot as plt \n",
    "sns.lineplot(x=range(len(accuracies)), y=accuracies, marker='o')\n",
    "plt.title(\"Training set accuracy at each epoch\")\n",
    "plt.xlabel(\"Epoch\")\n",
    "plt.ylabel(\"Accuracy\")"
   ]
  },
  {
   "cell_type": "code",
   "execution_count": null,
   "metadata": {},
   "outputs": [],
   "source": [
    "mnist_test = torchvision.datasets.MNIST(download=True, root='./datasets/', train=False)\n",
    "mnist_test_flat = mnist_test.data.view(10000, -1).to(torch.float32)"
   ]
  },
  {
   "cell_type": "code",
   "execution_count": null,
   "metadata": {},
   "outputs": [
    {
     "data": {
      "text/plain": [
       "torch.Size([10000, 28, 28])"
      ]
     },
     "execution_count": 697,
     "metadata": {},
     "output_type": "execute_result"
    }
   ],
   "source": [
    "mnist_test.data.shape"
   ]
  },
  {
   "cell_type": "code",
   "execution_count": null,
   "metadata": {},
   "outputs": [],
   "source": []
  },
  {
   "cell_type": "code",
   "execution_count": null,
   "metadata": {},
   "outputs": [
    {
     "data": {
      "text/plain": [
       "torch.Size([10000, 784])"
      ]
     },
     "execution_count": 698,
     "metadata": {},
     "output_type": "execute_result"
    }
   ],
   "source": [
    "mnist_test_flat.shape"
   ]
  },
  {
   "cell_type": "code",
   "execution_count": null,
   "metadata": {},
   "outputs": [],
   "source": [
    "preds = []\n",
    "for sample in mnist_test_flat:\n",
    "    preds.append(network.predict(sample))"
   ]
  },
  {
   "cell_type": "code",
   "execution_count": null,
   "metadata": {},
   "outputs": [],
   "source": [
    "pred_tensor =  torch.reshape(torch.tensor(preds), (-1,1))"
   ]
  },
  {
   "cell_type": "code",
   "execution_count": null,
   "metadata": {},
   "outputs": [
    {
     "name": "stdout",
     "output_type": "stream",
     "text": [
      "0.8645\n"
     ]
    }
   ],
   "source": [
    "correct = 0\n",
    "for index, pred in enumerate(preds):\n",
    "    if int(mnist_test.targets[index]) == pred:\n",
    "        correct += 1\n",
    "\n",
    "print(correct/len(preds))"
   ]
  },
  {
   "cell_type": "code",
   "execution_count": 906,
   "metadata": {},
   "outputs": [],
   "source": [
    "import torch.nn as nn\n",
    "import torch.optim as optim\n",
    "import torch.nn.functional as F\n",
    "class PytorchNet(nn.Module):\n",
    "    def __init__(self):\n",
    "        super(PytorchNet, self).__init__()\n",
    "        self.layer1 = nn.Linear(784, 200, bias=False)\n",
    "        self.layer2 = nn.Linear(200, 10, bias=False)\n",
    "\n",
    "    def forward(self, x):\n",
    "        x = F.sigmoid(self.layer1(x))\n",
    "        return F.log_softmax(self.layer2(x))"
   ]
  },
  {
   "cell_type": "code",
   "execution_count": 875,
   "metadata": {},
   "outputs": [],
   "source": [
    "n_epochs = 5\n",
    "batch_size_train = 100\n",
    "batch_size_test = 1000\n",
    "learning_rate = 0.01\n",
    "momentum = 0.5"
   ]
  },
  {
   "cell_type": "code",
   "execution_count": 876,
   "metadata": {},
   "outputs": [],
   "source": [
    "train_loader = torch.utils.data.DataLoader(\n",
    "  torchvision.datasets.MNIST('/datasets/', train=True, download=True,\n",
    "                             transform=torchvision.transforms.Compose([\n",
    "                               torchvision.transforms.ToTensor()\n",
    "                             ])),\n",
    "  batch_size=batch_size_train, shuffle=True)\n",
    "\n",
    "test_loader = torch.utils.data.DataLoader(\n",
    "  torchvision.datasets.MNIST('/datasets/', train=False, download=True,\n",
    "                             transform=torchvision.transforms.Compose([\n",
    "                               torchvision.transforms.ToTensor()\n",
    "                             ])),\n",
    "  batch_size=batch_size_test, shuffle=True)"
   ]
  },
  {
   "cell_type": "code",
   "execution_count": 887,
   "metadata": {},
   "outputs": [],
   "source": [
    "network = PytorchNet()\n",
    "optimizer = optim.SGD(network.parameters(), lr=learning_rate, momentum=0.0)"
   ]
  },
  {
   "cell_type": "code",
   "execution_count": 878,
   "metadata": {},
   "outputs": [],
   "source": [
    "train_losses = []\n",
    "train_counter = []\n",
    "test_losses = []\n",
    "test_counter = [i*len(train_loader.dataset) for i in range(n_epochs + 1)]"
   ]
  },
  {
   "cell_type": "code",
   "execution_count": 879,
   "metadata": {},
   "outputs": [],
   "source": [
    "def train():\n",
    "  network.train()\n",
    "  for data, target in train_loader:\n",
    "    optimizer.zero_grad()\n",
    "    output = network(torch.reshape(data, (batch_size_train, -1)))\n",
    "    loss = F.nll_loss(output, target)\n",
    "    loss.backward()\n",
    "    optimizer.step()"
   ]
  },
  {
   "cell_type": "code",
   "execution_count": 880,
   "metadata": {},
   "outputs": [
    {
     "data": {
      "text/plain": [
       "torch.Size([60000, 28, 28])"
      ]
     },
     "execution_count": 880,
     "metadata": {},
     "output_type": "execute_result"
    }
   ],
   "source": [
    "train_loader.dataset.data.shape"
   ]
  },
  {
   "cell_type": "code",
   "execution_count": 881,
   "metadata": {},
   "outputs": [
    {
     "name": "stderr",
     "output_type": "stream",
     "text": [
      "C:\\Users\\johng\\AppData\\Local\\Temp\\ipykernel_32800\\3662341025.py:14: UserWarning: Implicit dimension choice for log_softmax has been deprecated. Change the call to include dim=X as an argument.\n",
      "  return F.log_softmax(self.layer2(x))\n"
     ]
    }
   ],
   "source": [
    "train_accs = []\n",
    "for epoch in range(n_epochs):\n",
    "    train()\n",
    "    with torch.no_grad():\n",
    "        correct = 0\n",
    "        for data, target in train_loader:\n",
    "            output = network(torch.reshape(data, (batch_size_train, -1)))\n",
    "            pred = torch.argmax(output.data, dim=1)\n",
    "            correct += pred.eq(target.data.view_as(pred)).sum()\n",
    "        train_accs.append(100. * correct / len(train_loader.dataset))"
   ]
  },
  {
   "cell_type": "code",
   "execution_count": 882,
   "metadata": {},
   "outputs": [],
   "source": [
    "train_accs_list = [int(train_acc) for train_acc in train_accs]"
   ]
  },
  {
   "cell_type": "code",
   "execution_count": 883,
   "metadata": {},
   "outputs": [
    {
     "name": "stderr",
     "output_type": "stream",
     "text": [
      "c:\\Python311\\Lib\\site-packages\\seaborn\\_oldcore.py:1498: FutureWarning: is_categorical_dtype is deprecated and will be removed in a future version. Use isinstance(dtype, CategoricalDtype) instead\n",
      "  if pd.api.types.is_categorical_dtype(vector):\n",
      "c:\\Python311\\Lib\\site-packages\\seaborn\\_oldcore.py:1498: FutureWarning: is_categorical_dtype is deprecated and will be removed in a future version. Use isinstance(dtype, CategoricalDtype) instead\n",
      "  if pd.api.types.is_categorical_dtype(vector):\n",
      "c:\\Python311\\Lib\\site-packages\\seaborn\\_oldcore.py:1119: FutureWarning: use_inf_as_na option is deprecated and will be removed in a future version. Convert inf values to NaN before operating instead.\n",
      "  with pd.option_context('mode.use_inf_as_na', True):\n",
      "c:\\Python311\\Lib\\site-packages\\seaborn\\_oldcore.py:1119: FutureWarning: use_inf_as_na option is deprecated and will be removed in a future version. Convert inf values to NaN before operating instead.\n",
      "  with pd.option_context('mode.use_inf_as_na', True):\n"
     ]
    },
    {
     "data": {
      "text/plain": [
       "Text(0, 0.5, 'Accuracy')"
      ]
     },
     "execution_count": 883,
     "metadata": {},
     "output_type": "execute_result"
    },
    {
     "data": {
      "image/png": "[encoded data removed]",
      "text/plain": [
       "<Figure size 640x480 with 1 Axes>"
      ]
     },
     "metadata": {},
     "output_type": "display_data"
    }
   ],
   "source": [
    "import seaborn as sns\n",
    "import matplotlib.pyplot as plt \n",
    "sns.lineplot(x=range(len(train_accs_list)), y=train_accs_list, marker='o')\n",
    "plt.title(\"Training set accuracy at each epoch\")\n",
    "plt.xlabel(\"Epoch\")\n",
    "plt.ylabel(\"Accuracy\")"
   ]
  },
  {
   "cell_type": "code",
   "execution_count": 884,
   "metadata": {},
   "outputs": [
    {
     "name": "stderr",
     "output_type": "stream",
     "text": [
      "C:\\Users\\johng\\AppData\\Local\\Temp\\ipykernel_32800\\3662341025.py:14: UserWarning: Implicit dimension choice for log_softmax has been deprecated. Change the call to include dim=X as an argument.\n",
      "  return F.log_softmax(self.layer2(x))\n"
     ]
    }
   ],
   "source": [
    "test_accs = []\n",
    "with torch.no_grad():\n",
    "        correct = 0\n",
    "        for data, target in test_loader:\n",
    "            output = network(torch.reshape(data, (batch_size_test, -1)))\n",
    "            pred = torch.argmax(output.data, dim=1)\n",
    "            correct += pred.eq(target.data.view_as(pred)).sum()\n",
    "        test_accs.append(100. * correct / len(test_loader.dataset))"
   ]
  },
  {
   "cell_type": "code",
   "execution_count": 885,
   "metadata": {},
   "outputs": [
    {
     "name": "stdout",
     "output_type": "stream",
     "text": [
      "[tensor(85.7000)]\n"
     ]
    }
   ],
   "source": [
    "print(test_accs)"
   ]
  },
  {
   "cell_type": "code",
   "execution_count": 904,
   "metadata": {},
   "outputs": [],
   "source": [
    "def train_vary_batches(batch, network, train_loader, optimizer):\n",
    "  for data, target in train_loader:\n",
    "      try:\n",
    "        optimizer.zero_grad()\n",
    "        output = network(torch.reshape(data, (batch, 784)))\n",
    "        loss = F.nll_loss(output, target)\n",
    "        loss.backward()\n",
    "        optimizer.step()\n",
    "      except:\n",
    "          continue\n",
    "  return network"
   ]
  },
  {
   "cell_type": "code",
   "execution_count": 907,
   "metadata": {},
   "outputs": [
    {
     "name": "stderr",
     "output_type": "stream",
     "text": [
      "C:\\Users\\johng\\AppData\\Local\\Temp\\ipykernel_32800\\3612548321.py:12: UserWarning: Implicit dimension choice for log_softmax has been deprecated. Change the call to include dim=X as an argument.\n",
      "  return F.log_softmax(self.layer2(x))\n"
     ]
    },
    {
     "name": "stdout",
     "output_type": "stream",
     "text": [
      "tensor(89.3600) 32\n",
      "tensor(86.4100) 64\n",
      "tensor(79.9200) 128\n",
      "tensor(68.2800) 256\n"
     ]
    }
   ],
   "source": [
    "train_accs = []\n",
    "batch_sizes = [32, 64, 128, 256]\n",
    "for batch_size in batch_sizes:\n",
    "    train_loader = torch.utils.data.DataLoader(\n",
    "    torchvision.datasets.MNIST('/datasets/', train=True, download=True,\n",
    "                                transform=torchvision.transforms.Compose([\n",
    "                                torchvision.transforms.ToTensor()\n",
    "                                ])),\n",
    "    batch_size=batch_size, shuffle=True)\n",
    "\n",
    "    network = PytorchNet()\n",
    "    optimizer = optim.SGD(network.parameters(), lr=learning_rate, momentum=0.0)\n",
    "    for epoch in range(n_epochs):\n",
    "        network = train_vary_batches(batch_size, network, train_loader, optimizer)\n",
    "   \n",
    "    test_accs = []\n",
    "    with torch.no_grad():\n",
    "        correct = 0\n",
    "        for data, target in test_loader:\n",
    "            output = network(torch.reshape(data, (batch_size_test, -1)))\n",
    "            pred = torch.argmax(output.data, dim=1)\n",
    "            correct += pred.eq(target.data.view_as(pred)).sum()\n",
    "        test_accs.append(100. * correct / len(test_loader.dataset))\n",
    "    print(test_accs[0], batch_size)"
   ]
  }
 ],
 "metadata": {
  "kernelspec": {
   "display_name": "Python 3",
   "language": "python",
   "name": "python3"
  },
  "language_info": {
   "codemirror_mode": {
    "name": "ipython",
    "version": 3
   },
   "file_extension": ".py",
   "mimetype": "text/x-python",
   "name": "python",
   "nbconvert_exporter": "python",
   "pygments_lexer": "ipython3",
   "version": "3.11.5"
  }
 },
 "nbformat": 4,
 "nbformat_minor": 2
}
